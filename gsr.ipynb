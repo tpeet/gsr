{
 "cells": [
  {
   "cell_type": "code",
   "execution_count": null,
   "metadata": {},
   "outputs": [],
   "source": [
    "import serial\n",
    "import numpy as np\n",
    "import time\n",
    "def isInt(s):\n",
    "    try: \n",
    "        int(s)\n",
    "        return True\n",
    "    except ValueError:\n",
    "        return False\n",
    "    \n",
    "from bokeh.io import push_notebook, show, output_notebook\n",
    "from bokeh.layouts import row\n",
    "from bokeh.plotting import figure\n",
    "from bokeh.models.sources import ColumnDataSource\n",
    "import socket\n",
    "from bokeh.models import Range1d\n",
    "output_notebook()"
   ]
  },
  {
   "cell_type": "markdown",
   "metadata": {},
   "source": [
    "# Creates TCP server"
   ]
  },
  {
   "cell_type": "code",
   "execution_count": null,
   "metadata": {},
   "outputs": [],
   "source": [
    "TCP_IP = '127.0.0.1'\n",
    "TCP_PORT = 5005\n",
    "BUFFER_SIZE = 30\n",
    "\n",
    "s = socket.socket(socket.AF_INET, socket.SOCK_STREAM)\n",
    "s.bind((TCP_IP, TCP_PORT))\n",
    "s.listen(1)"
   ]
  },
  {
   "cell_type": "markdown",
   "metadata": {},
   "source": [
    "# Vizualisations of SCL and SCR\n",
    "This starts after the next cell is ran and someone has connected through TCP"
   ]
  },
  {
   "cell_type": "code",
   "execution_count": null,
   "metadata": {},
   "outputs": [],
   "source": [
    "my_figure = figure(plot_width=800, plot_height=400)\n",
    "data_source = ColumnDataSource(data=dict(x=[0], y_scl=[0], y_scr=[0]))\n",
    "scl_line = my_figure.circle(\"x\", \"y_scl\", source=data_source)\n",
    "scr_line = my_figure.circle(\"x\", \"y_scr\", source=data_source, color='orange')\n",
    "handle = show(my_figure, notebook_handle=True)\n"
   ]
  },
  {
   "cell_type": "markdown",
   "metadata": {},
   "source": [
    "# Data handling\n",
    "Read, process and send out data from Arduino"
   ]
  },
  {
   "cell_type": "code",
   "execution_count": null,
   "metadata": {},
   "outputs": [],
   "source": [
    "usb_port = '/dev/ttyUSB0'\n",
    "\n",
    "# Hz (500 ms between each measurement)\n",
    "sample_rate = 100 \n",
    "\n",
    "# the size of the moving average window in seconds\n",
    "SCL_window_size_time =  10\n",
    "SCR_window_size_time = 2\n",
    "\n",
    "# what's the time step between taking the moving average\n",
    "step_size_time = 0.1\n",
    "\n",
    "# Max graph time in seconds\n",
    "max_graph_time = 30\n",
    "\n",
    "\n",
    "max_graph_size = int(max_graph_time/step_size_time)\n",
    "\n",
    "SCL_window_size = int(SCL_window_size_time*sample_rate)\n",
    "#SCL_step_size = int(SCL_step_size_time*sample_rate)\n",
    "SCR_window_size = int(SCR_window_size_time*sample_rate)\n",
    "SCR_step_size = int(step_size_time*sample_rate)\n",
    "\n",
    "\n",
    "\n",
    "SCL_values = []\n",
    "SCR_values = []\n",
    "raw_values = []\n",
    "\n",
    "counter = 0\n",
    "SCR_step = 0\n",
    "SCR_steps = []\n",
    "\n",
    "conn, addr = s.accept() # Waits until someone is connected and then starts reading data\n",
    "with serial.Serial(usb_port, 9600) as ser:\n",
    "    while True:\n",
    "        line = ser.readline()\n",
    "        if (isInt(line.strip())):\n",
    "            sensorValue = int(line.strip())\n",
    "            raw_values.append(sensorValue)\n",
    "            #raw_values = raw_values[-SCL_window_size:]\n",
    "            if counter % SCR_step_size == 0:\n",
    "                scr_current = np.mean(raw_values[-SCR_window_size:]) # TODO: moving average window function\n",
    "                SCR_values.append(scr_current)\n",
    "                SCR_steps.append(SCR_step)\n",
    "                SCR_step += step_size_time\n",
    "                SCL_values.append(np.mean(raw_values[-SCL_window_size:]))\n",
    "                conn.send((str(SCR_values[-1]) + \";\" + str(SCL_values[-1]) + '\\n').encode())\n",
    "                data_source.stream({'x': [SCR_steps[-1]], 'y_scl': [SCL_values[-1]], \n",
    "                                    'y_scr': [SCR_values[-1]]}, max_graph_size)                    \n",
    "                push_notebook(handle=handle)\n",
    "            counter += 1\n",
    "        time.sleep(5/1000)\n",
    "conn.close()"
   ]
  },
  {
   "cell_type": "markdown",
   "metadata": {},
   "source": [
    "# Other Stuff"
   ]
  },
  {
   "cell_type": "code",
   "execution_count": null,
   "metadata": {},
   "outputs": [],
   "source": [
    "import matplotlib.pyplot as plt\n",
    "plt.plot(raw_values[5000:5500])\n",
    "plt.show()"
   ]
  },
  {
   "cell_type": "code",
   "execution_count": null,
   "metadata": {},
   "outputs": [],
   "source": [
    "print(minVal)\n",
    "print(maxVal)"
   ]
  }
 ],
 "metadata": {
  "kernelspec": {
   "display_name": "Python 3",
   "language": "python",
   "name": "python3"
  },
  "language_info": {
   "codemirror_mode": {
    "name": "ipython",
    "version": 3
   },
   "file_extension": ".py",
   "mimetype": "text/x-python",
   "name": "python",
   "nbconvert_exporter": "python",
   "pygments_lexer": "ipython3",
   "version": "3.6.2"
  }
 },
 "nbformat": 4,
 "nbformat_minor": 1
}
